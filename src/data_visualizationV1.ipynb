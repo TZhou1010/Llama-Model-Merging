{
 "cells": [
  {
   "cell_type": "code",
   "execution_count": 19,
   "metadata": {},
   "outputs": [],
   "source": [
    "import os\n",
    "os.environ[\"CUDA_VISIBLE_DEVICES\"] = \"4\"\n",
    "from transformers import AutoModelForSeq2SeqLM\n",
    "import torch\n",
    "from datasets import Dataset\n",
    "from torch.utils.data import DataLoader\n",
    "from transformers import default_data_collator\n",
    "from transformers import AutoTokenizer\n",
    "from tqdm import tqdm\n",
    "import pandas as pd\n",
    "import numpy\n",
    "import random\n",
    "from peft.utils.save_and_load import set_peft_model_state_dict, get_peft_model_state_dict\n",
    "from peft import PeftModel, PeftConfig\n",
    "from functools import partial\n",
    "from typing import List, Optional, Union\n",
    "import copy\n",
    "from transformers import LlamaForCausalLM, LlamaTokenizer\n",
    "import torch.nn as nn\n",
    "from peft.tuners.lora.layer import LoraLayer\n",
    "import types\n",
    "from trl import SFTTrainer, DataCollatorForCompletionOnlyLM\n",
    "from transformers import TrainingArguments\n",
    "#from utils.prompter import Prompter"
   ]
  },
  {
   "cell_type": "code",
   "execution_count": null,
   "metadata": {},
   "outputs": [],
   "source": [
    "import os\n",
    "import torch\n",
    "import json\n",
    "import numpy as np\n",
    "from datasets import load_dataset\n",
    "from transformers import (\n",
    "    LlamaForCausalLM, \n",
    "    LlamaTokenizer,\n",
    "    TrainingArguments\n",
    ")\n",
    "from peft import (\n",
    "    LoraConfig, \n",
    "    get_peft_model, \n",
    "    prepare_model_for_kbit_training,\n",
    "    TaskType\n",
    ")\n",
    "from trl import SFTTrainer\n",
    "#from utils.prompter import Prompter\n",
    "\n",
    "from transformers import AutoModelForSeq2SeqLM\n",
    "import torch\n",
    "from datasets import Dataset\n",
    "from torch.utils.data import DataLoader\n",
    "from transformers import default_data_collator\n",
    "from transformers import AutoTokenizer\n",
    "from tqdm import tqdm\n",
    "import pandas as pd\n",
    "import numpy\n",
    "import random\n",
    "from peft.utils.save_and_load import set_peft_model_state_dict, get_peft_model_state_dict\n",
    "from peft import PeftModel, PeftConfig\n",
    "from functools import partial\n",
    "from typing import List, Optional, Union\n",
    "import copy\n",
    "\n",
    "import torch\n",
    "import matplotlib.pyplot as plt\n",
    "import numpy as np\n",
    "from sklearn.metrics.pairwise import cosine_similarity\n",
    "from sklearn.manifold import TSNE\n",
    "import seaborn as sns\n",
    "\n",
    "tokenizer = None\n",
    "def load_base_model_and_lora_modules(lora_module_list: List[str], model_name_or_path: Optional[str] = None):\n",
    "    \"\"\"load base model and lora modules from huggingface model hub\n",
    "\n",
    "    Args:\n",
    "        lora_module_list (List[str]): a list of lora module names available in huggingface model hub\n",
    "        model_name_or_path (Optional[str]): base model name, default is None\n",
    "    \"\"\"\n",
    "    # use gpu if available\n",
    "    device = \"cuda\" if torch.cuda.is_available() else \"cpu\"\n",
    "    # load basic model\n",
    "    default_peft_model_id = lora_module_list[0]\n",
    "    # find the base model\n",
    "    if model_name_or_path is None:\n",
    "        model_name_or_path = PeftConfig.from_pretrained(default_peft_model_id).base_model_name_or_path\n",
    "    global tokenizer    \n",
    "    tokenizer = LlamaTokenizer.from_pretrained(model_name_or_path)\n",
    "    tokenizer.pad_token_id = 0\n",
    "    tokenizer.padding_side = \"left\"\n",
    "    tokenizer.pad_token = tokenizer.bos_token\n",
    "\n",
    "    base_model = LlamaForCausalLM.from_pretrained(\n",
    "        model_name_or_path, torch_dtype=torch.float16\n",
    "    )\n",
    "    base_model.bfloat16()\n",
    "    # 0 is the default model\n",
    "    try:\n",
    "        peft_model = PeftModel.from_pretrained(base_model, default_peft_model_id)\n",
    "    except:\n",
    "        raise Exception(f'{default_peft_model_id} is unable to load into the model {model_name_or_path}')\n",
    "        \n",
    "    peft_model = peft_model.to(device)\n",
    "    peft_model.eval()\n",
    "\n",
    "    print(\"> Begin to load lora modules\")\n",
    "    cache = {}\n",
    "\n",
    "    first_dict = None\n",
    "\n",
    "    for peft_model_id in tqdm(lora_module_list):\n",
    "        print(\"> Loading {} ...\".format(peft_model_id))\n",
    "        cur_peft_model = PeftModel.from_pretrained(base_model, peft_model_id)\n",
    "        cache[peft_model_id] = copy.deepcopy(get_peft_model_state_dict(cur_peft_model))\n",
    "\n",
    "        if first_dict is None:\n",
    "            first_dict = cache[peft_model_id]\n",
    "        # check whether the LoRA can be merged into one \n",
    "        try:\n",
    "            # detect whether the arch is the same\n",
    "            for key in first_dict.keys():\n",
    "                assert first_dict[key].shape == cache[peft_model_id][key].shape\n",
    "        except:\n",
    "            raise Exception(f'LoRA Modules {peft_model_id} cannot be merged since it has a different arch (e.g., rank).')\n",
    "               \n",
    "    return peft_model, tokenizer, cache\n"
   ]
  },
  {
   "cell_type": "code",
   "execution_count": null,
   "metadata": {},
   "outputs": [],
   "source": [
    "def initialize_trainer(used_lora_list):\n",
    "    #lora_list = ['story_cloze', 'hellaswag', 'piqa', 'copa', 'sst2', 'cb', 'multirc', 'wnli', 'squad_v2', 'web_nlg_en', 'definite_pronoun_resolution', 'wmt16_translate_tren', 'wmt16_translate_deen', 'squad_v1', 'dart', 'cosmos_qa', 'mnli_matched', 'anli_r3', 'e2e_nlg', 'anli_r2', 'natural_questions', 'paws_wiki', 'wmt16_translate_ruen', 'glue_qqp', 'story_cloze', 'openbookqa', 'yelp_polarity_reviews', 'arc_easy', 'wmt16_translate_fien', 'anli_r1', 'mnli_mismatched', 'imdb_reviews', 'wmt16_translate_roen', 'common_gen', 'snli', 'sentiment140', 'piqa', 'wmt14_enfr', 'wsc', 'arc_challenge', 'copa', 'qnli', 'glue_mrpc', 'bool_q', 'hellaswag', 'wmt16_translate_csen', 'rte', 'drop', 'record', 'stsb', 'trivia_qa', 'para_crawl_enes', 'quac', 'wiki_lingua_english_en', 'aeslc', 'gigaword', 'trec', 'cnn_dailymail', 'opinion_abstracts_idebate', 'samsum', 'opinion_abstracts_rotten_tomatoes', 'multi_news', 'true_case', 'fix_punct', 'cola', 'word_segment', 'wic', 'ag_news_subset', 'math_dataset', 'coqa']\n",
    "    model_path = \"meta-llama/Llama-2-7b-hf\"\n",
    "    #num_lora_modules = 2\n",
    "    used_lora_list = used_lora_list\n",
    "    lora_module_list = [f\"Styxxxx/llama2_7b_lora-{name}\" for name in used_lora_list]\n",
    "\n",
    "    model, tokenizer, lora_cache = load_base_model_and_lora_modules(lora_module_list, model_path)\n",
    "    return model, tokenizer, lora_cache"
   ]
  },
  {
   "cell_type": "code",
   "execution_count": 29,
   "metadata": {},
   "outputs": [],
   "source": [
    "split_list = [3, 4, 2, 10, 3, 2, 6, 4, 4, 7]"
   ]
  },
  {
   "cell_type": "code",
   "execution_count": null,
   "metadata": {},
   "outputs": [],
   "source": [
    "lora_list = [\n",
    "    'natural_questions', 'arc_challenge', 'arc_easy', 'story_cloze', 'piqa', 'copa',\n",
    "    'hellaswag', 'definite_pronoun_resolution', 'wsc', 'cb', 'wnli', 'mnli_matched',\n",
    "    'anli_r1', 'anli_r2', 'anli_r3', 'mnli_mismatched', 'snli', 'qnli', 'rte',\n",
    "    'paws_wiki', 'glue_qqp', '', 'cosmos_qa', 'record', 'multirc', 'squad_v1',\n",
    "    'squad_v2', 'openbookqa', 'bool_q', 'drop', 'sst2', 'yelp_polarity_reviews',\n",
    "    'imdb_reviews', 'sentiment140', 'web_nlg_en', 'dart', 'e2e_nlg', 'common_gen',\n",
    "    'wmt16_translate_deen', 'wmt16_translate_fien', 'wmt16_translate_roen',\n",
    "    'wmt16_translate_ruen', 'wmt16_translate_tren', 'wmt16_translate_csen',\n",
    "    'wmt14_enfr', 'wmt16_translate_roen'\n",
    "]"
   ]
  },
  {
   "cell_type": "code",
   "execution_count": null,
   "metadata": {},
   "outputs": [],
   "source": [
    "'''\n",
    "3, [answering comprehension question from wikipedia/ science multiple choice] [why should these be connected?]\n",
    "4, [story ending / answering common sense questino / common sense causal reasoning / Intuitive reasoning that is hard for AI]\n",
    "2, [figure out what the pronoun refers to / similar pronoun problem]\n",
    "10, [] natural language inference. Trying to figure out the relationships between two sentences, two blocks of texts (till rte)\n",
    "3, [similar words different meaning/ question paraphrase pair / comprehension mmc???]\n",
    "2, [large-scale reading comprehension / Reading comprehension on large texts]\n",
    "6, []Answer question using a large textbook/ corpus, \n",
    "4, [] Sentiment analysis \n",
    "4, [] generating text with entity relation pairs\n",
    "7. [] Language translation\n",
    "'''"
   ]
  },
  {
   "cell_type": "code",
   "execution_count": 26,
   "metadata": {},
   "outputs": [
    {
     "name": "stdout",
     "output_type": "stream",
     "text": [
      "Collecting seaborn\n",
      "  Using cached seaborn-0.13.2-py3-none-any.whl.metadata (5.4 kB)\n",
      "Requirement already satisfied: numpy!=1.24.0,>=1.20 in /opt/miniconda3/envs/treasure/lib/python3.12/site-packages (from seaborn) (2.0.0)\n",
      "Requirement already satisfied: pandas>=1.2 in /opt/miniconda3/envs/treasure/lib/python3.12/site-packages (from seaborn) (2.2.3)\n",
      "Requirement already satisfied: matplotlib!=3.6.1,>=3.4 in /opt/miniconda3/envs/treasure/lib/python3.12/site-packages (from seaborn) (3.9.1)\n",
      "Requirement already satisfied: contourpy>=1.0.1 in /opt/miniconda3/envs/treasure/lib/python3.12/site-packages (from matplotlib!=3.6.1,>=3.4->seaborn) (1.2.1)\n",
      "Requirement already satisfied: cycler>=0.10 in /opt/miniconda3/envs/treasure/lib/python3.12/site-packages (from matplotlib!=3.6.1,>=3.4->seaborn) (0.12.1)\n",
      "Requirement already satisfied: fonttools>=4.22.0 in /opt/miniconda3/envs/treasure/lib/python3.12/site-packages (from matplotlib!=3.6.1,>=3.4->seaborn) (4.53.1)\n",
      "Requirement already satisfied: kiwisolver>=1.3.1 in /opt/miniconda3/envs/treasure/lib/python3.12/site-packages (from matplotlib!=3.6.1,>=3.4->seaborn) (1.4.5)\n",
      "Requirement already satisfied: packaging>=20.0 in /opt/miniconda3/envs/treasure/lib/python3.12/site-packages (from matplotlib!=3.6.1,>=3.4->seaborn) (24.1)\n",
      "Requirement already satisfied: pillow>=8 in /opt/miniconda3/envs/treasure/lib/python3.12/site-packages (from matplotlib!=3.6.1,>=3.4->seaborn) (10.4.0)\n",
      "Requirement already satisfied: pyparsing>=2.3.1 in /opt/miniconda3/envs/treasure/lib/python3.12/site-packages (from matplotlib!=3.6.1,>=3.4->seaborn) (3.1.2)\n",
      "Requirement already satisfied: python-dateutil>=2.7 in /opt/miniconda3/envs/treasure/lib/python3.12/site-packages (from matplotlib!=3.6.1,>=3.4->seaborn) (2.9.0.post0)\n",
      "Requirement already satisfied: pytz>=2020.1 in /opt/miniconda3/envs/treasure/lib/python3.12/site-packages (from pandas>=1.2->seaborn) (2025.2)\n",
      "Requirement already satisfied: tzdata>=2022.7 in /opt/miniconda3/envs/treasure/lib/python3.12/site-packages (from pandas>=1.2->seaborn) (2025.2)\n",
      "Requirement already satisfied: six>=1.5 in /opt/miniconda3/envs/treasure/lib/python3.12/site-packages (from python-dateutil>=2.7->matplotlib!=3.6.1,>=3.4->seaborn) (1.16.0)\n",
      "Using cached seaborn-0.13.2-py3-none-any.whl (294 kB)\n",
      "Installing collected packages: seaborn\n",
      "Successfully installed seaborn-0.13.2\n"
     ]
    }
   ],
   "source": [
    "!pip install seaborn"
   ]
  },
  {
   "cell_type": "code",
   "execution_count": 22,
   "metadata": {},
   "outputs": [
    {
     "name": "stdout",
     "output_type": "stream",
     "text": [
      "Collecting scikit-learn\n",
      "  Using cached scikit_learn-1.6.1-cp312-cp312-macosx_12_0_arm64.whl.metadata (31 kB)\n",
      "Requirement already satisfied: numpy>=1.19.5 in /opt/miniconda3/envs/treasure/lib/python3.12/site-packages (from scikit-learn) (2.0.0)\n",
      "Collecting scipy>=1.6.0 (from scikit-learn)\n",
      "  Using cached scipy-1.15.2-cp312-cp312-macosx_14_0_arm64.whl.metadata (61 kB)\n",
      "Collecting joblib>=1.2.0 (from scikit-learn)\n",
      "  Using cached joblib-1.4.2-py3-none-any.whl.metadata (5.4 kB)\n",
      "Collecting threadpoolctl>=3.1.0 (from scikit-learn)\n",
      "  Using cached threadpoolctl-3.6.0-py3-none-any.whl.metadata (13 kB)\n",
      "Using cached scikit_learn-1.6.1-cp312-cp312-macosx_12_0_arm64.whl (11.2 MB)\n",
      "Using cached joblib-1.4.2-py3-none-any.whl (301 kB)\n",
      "Using cached scipy-1.15.2-cp312-cp312-macosx_14_0_arm64.whl (22.4 MB)\n",
      "Using cached threadpoolctl-3.6.0-py3-none-any.whl (18 kB)\n",
      "Installing collected packages: threadpoolctl, scipy, joblib, scikit-learn\n",
      "Successfully installed joblib-1.4.2 scikit-learn-1.6.1 scipy-1.15.2 threadpoolctl-3.6.0\n"
     ]
    }
   ],
   "source": [
    "!pip install scikit-learn"
   ]
  },
  {
   "cell_type": "code",
   "execution_count": 9,
   "metadata": {},
   "outputs": [
    {
     "name": "stdout",
     "output_type": "stream",
     "text": [
      "Collecting peft\n",
      "  Downloading peft-0.15.2-py3-none-any.whl.metadata (13 kB)\n",
      "Requirement already satisfied: numpy>=1.17 in /opt/miniconda3/envs/treasure/lib/python3.12/site-packages (from peft) (2.0.0)\n",
      "Requirement already satisfied: packaging>=20.0 in /opt/miniconda3/envs/treasure/lib/python3.12/site-packages (from peft) (24.1)\n",
      "Requirement already satisfied: psutil in /opt/miniconda3/envs/treasure/lib/python3.12/site-packages (from peft) (7.0.0)\n",
      "Requirement already satisfied: pyyaml in /opt/miniconda3/envs/treasure/lib/python3.12/site-packages (from peft) (6.0.2)\n",
      "Requirement already satisfied: torch>=1.13.0 in /opt/miniconda3/envs/treasure/lib/python3.12/site-packages (from peft) (2.4.0)\n",
      "Requirement already satisfied: transformers in /opt/miniconda3/envs/treasure/lib/python3.12/site-packages (from peft) (4.51.3)\n",
      "Requirement already satisfied: tqdm in /opt/miniconda3/envs/treasure/lib/python3.12/site-packages (from peft) (4.67.1)\n",
      "Collecting accelerate>=0.21.0 (from peft)\n",
      "  Downloading accelerate-1.6.0-py3-none-any.whl.metadata (19 kB)\n",
      "Requirement already satisfied: safetensors in /opt/miniconda3/envs/treasure/lib/python3.12/site-packages (from peft) (0.5.3)\n",
      "Requirement already satisfied: huggingface_hub>=0.25.0 in /opt/miniconda3/envs/treasure/lib/python3.12/site-packages (from peft) (0.30.1)\n",
      "Requirement already satisfied: filelock in /opt/miniconda3/envs/treasure/lib/python3.12/site-packages (from huggingface_hub>=0.25.0->peft) (3.18.0)\n",
      "Requirement already satisfied: fsspec>=2023.5.0 in /opt/miniconda3/envs/treasure/lib/python3.12/site-packages (from huggingface_hub>=0.25.0->peft) (2024.12.0)\n",
      "Requirement already satisfied: requests in /opt/miniconda3/envs/treasure/lib/python3.12/site-packages (from huggingface_hub>=0.25.0->peft) (2.32.3)\n",
      "Requirement already satisfied: typing-extensions>=3.7.4.3 in /opt/miniconda3/envs/treasure/lib/python3.12/site-packages (from huggingface_hub>=0.25.0->peft) (4.13.2)\n",
      "Requirement already satisfied: sympy in /opt/miniconda3/envs/treasure/lib/python3.12/site-packages (from torch>=1.13.0->peft) (1.13.1)\n",
      "Requirement already satisfied: networkx in /opt/miniconda3/envs/treasure/lib/python3.12/site-packages (from torch>=1.13.0->peft) (3.4.2)\n",
      "Requirement already satisfied: jinja2 in /opt/miniconda3/envs/treasure/lib/python3.12/site-packages (from torch>=1.13.0->peft) (3.1.6)\n",
      "Requirement already satisfied: setuptools in /opt/miniconda3/envs/treasure/lib/python3.12/site-packages (from torch>=1.13.0->peft) (70.1.1)\n",
      "Requirement already satisfied: regex!=2019.12.17 in /opt/miniconda3/envs/treasure/lib/python3.12/site-packages (from transformers->peft) (2024.11.6)\n",
      "Requirement already satisfied: tokenizers<0.22,>=0.21 in /opt/miniconda3/envs/treasure/lib/python3.12/site-packages (from transformers->peft) (0.21.1)\n",
      "Requirement already satisfied: MarkupSafe>=2.0 in /opt/miniconda3/envs/treasure/lib/python3.12/site-packages (from jinja2->torch>=1.13.0->peft) (3.0.2)\n",
      "Requirement already satisfied: charset-normalizer<4,>=2 in /opt/miniconda3/envs/treasure/lib/python3.12/site-packages (from requests->huggingface_hub>=0.25.0->peft) (3.4.1)\n",
      "Requirement already satisfied: idna<4,>=2.5 in /opt/miniconda3/envs/treasure/lib/python3.12/site-packages (from requests->huggingface_hub>=0.25.0->peft) (3.10)\n",
      "Requirement already satisfied: urllib3<3,>=1.21.1 in /opt/miniconda3/envs/treasure/lib/python3.12/site-packages (from requests->huggingface_hub>=0.25.0->peft) (2.3.0)\n",
      "Requirement already satisfied: certifi>=2017.4.17 in /opt/miniconda3/envs/treasure/lib/python3.12/site-packages (from requests->huggingface_hub>=0.25.0->peft) (2025.1.31)\n",
      "Requirement already satisfied: mpmath<1.4,>=1.1.0 in /opt/miniconda3/envs/treasure/lib/python3.12/site-packages (from sympy->torch>=1.13.0->peft) (1.3.0)\n",
      "Downloading peft-0.15.2-py3-none-any.whl (411 kB)\n",
      "\u001b[2K   \u001b[90m━━━━━━━━━━━━━━━━━━━━━━━━━━━━━━━━━━━━━━━━\u001b[0m \u001b[32m411.1/411.1 kB\u001b[0m \u001b[31m5.0 MB/s\u001b[0m eta \u001b[36m0:00:00\u001b[0m00:01\u001b[0m00:01\u001b[0m\n",
      "\u001b[?25hDownloading accelerate-1.6.0-py3-none-any.whl (354 kB)\n",
      "\u001b[2K   \u001b[90m━━━━━━━━━━━━━━━━━━━━━━━━━━━━━━━━━━━━━━━━\u001b[0m \u001b[32m354.7/354.7 kB\u001b[0m \u001b[31m11.1 MB/s\u001b[0m eta \u001b[36m0:00:00\u001b[0m\n",
      "\u001b[?25hInstalling collected packages: accelerate, peft\n",
      "Successfully installed accelerate-1.6.0 peft-0.15.2\n"
     ]
    }
   ],
   "source": [
    "!pip install peft"
   ]
  },
  {
   "cell_type": "code",
   "execution_count": 11,
   "metadata": {},
   "outputs": [
    {
     "name": "stdout",
     "output_type": "stream",
     "text": [
      "Collecting trl\n",
      "  Downloading trl-0.17.0-py3-none-any.whl.metadata (12 kB)\n",
      "Requirement already satisfied: accelerate>=0.34.0 in /opt/miniconda3/envs/treasure/lib/python3.12/site-packages (from trl) (1.6.0)\n",
      "Requirement already satisfied: datasets>=3.0.0 in /opt/miniconda3/envs/treasure/lib/python3.12/site-packages (from trl) (3.5.0)\n",
      "Collecting rich (from trl)\n",
      "  Downloading rich-14.0.0-py3-none-any.whl.metadata (18 kB)\n",
      "Requirement already satisfied: transformers>=4.46.0 in /opt/miniconda3/envs/treasure/lib/python3.12/site-packages (from trl) (4.51.3)\n",
      "Requirement already satisfied: numpy<3.0.0,>=1.17 in /opt/miniconda3/envs/treasure/lib/python3.12/site-packages (from accelerate>=0.34.0->trl) (2.0.0)\n",
      "Requirement already satisfied: packaging>=20.0 in /opt/miniconda3/envs/treasure/lib/python3.12/site-packages (from accelerate>=0.34.0->trl) (24.1)\n",
      "Requirement already satisfied: psutil in /opt/miniconda3/envs/treasure/lib/python3.12/site-packages (from accelerate>=0.34.0->trl) (7.0.0)\n",
      "Requirement already satisfied: pyyaml in /opt/miniconda3/envs/treasure/lib/python3.12/site-packages (from accelerate>=0.34.0->trl) (6.0.2)\n",
      "Requirement already satisfied: torch>=2.0.0 in /opt/miniconda3/envs/treasure/lib/python3.12/site-packages (from accelerate>=0.34.0->trl) (2.4.0)\n",
      "Requirement already satisfied: huggingface-hub>=0.21.0 in /opt/miniconda3/envs/treasure/lib/python3.12/site-packages (from accelerate>=0.34.0->trl) (0.30.1)\n",
      "Requirement already satisfied: safetensors>=0.4.3 in /opt/miniconda3/envs/treasure/lib/python3.12/site-packages (from accelerate>=0.34.0->trl) (0.5.3)\n",
      "Requirement already satisfied: filelock in /opt/miniconda3/envs/treasure/lib/python3.12/site-packages (from datasets>=3.0.0->trl) (3.18.0)\n",
      "Requirement already satisfied: pyarrow>=15.0.0 in /opt/miniconda3/envs/treasure/lib/python3.12/site-packages (from datasets>=3.0.0->trl) (19.0.1)\n",
      "Requirement already satisfied: dill<0.3.9,>=0.3.0 in /opt/miniconda3/envs/treasure/lib/python3.12/site-packages (from datasets>=3.0.0->trl) (0.3.8)\n",
      "Requirement already satisfied: pandas in /opt/miniconda3/envs/treasure/lib/python3.12/site-packages (from datasets>=3.0.0->trl) (2.2.3)\n",
      "Requirement already satisfied: requests>=2.32.2 in /opt/miniconda3/envs/treasure/lib/python3.12/site-packages (from datasets>=3.0.0->trl) (2.32.3)\n",
      "Requirement already satisfied: tqdm>=4.66.3 in /opt/miniconda3/envs/treasure/lib/python3.12/site-packages (from datasets>=3.0.0->trl) (4.67.1)\n",
      "Requirement already satisfied: xxhash in /opt/miniconda3/envs/treasure/lib/python3.12/site-packages (from datasets>=3.0.0->trl) (3.5.0)\n",
      "Requirement already satisfied: multiprocess<0.70.17 in /opt/miniconda3/envs/treasure/lib/python3.12/site-packages (from datasets>=3.0.0->trl) (0.70.16)\n",
      "Requirement already satisfied: fsspec<=2024.12.0,>=2023.1.0 in /opt/miniconda3/envs/treasure/lib/python3.12/site-packages (from fsspec[http]<=2024.12.0,>=2023.1.0->datasets>=3.0.0->trl) (2024.12.0)\n",
      "Requirement already satisfied: aiohttp in /opt/miniconda3/envs/treasure/lib/python3.12/site-packages (from datasets>=3.0.0->trl) (3.11.18)\n",
      "Requirement already satisfied: regex!=2019.12.17 in /opt/miniconda3/envs/treasure/lib/python3.12/site-packages (from transformers>=4.46.0->trl) (2024.11.6)\n",
      "Requirement already satisfied: tokenizers<0.22,>=0.21 in /opt/miniconda3/envs/treasure/lib/python3.12/site-packages (from transformers>=4.46.0->trl) (0.21.1)\n",
      "Collecting markdown-it-py>=2.2.0 (from rich->trl)\n",
      "  Using cached markdown_it_py-3.0.0-py3-none-any.whl.metadata (6.9 kB)\n",
      "Requirement already satisfied: pygments<3.0.0,>=2.13.0 in /opt/miniconda3/envs/treasure/lib/python3.12/site-packages (from rich->trl) (2.19.1)\n",
      "Requirement already satisfied: aiohappyeyeballs>=2.3.0 in /opt/miniconda3/envs/treasure/lib/python3.12/site-packages (from aiohttp->datasets>=3.0.0->trl) (2.6.1)\n",
      "Requirement already satisfied: aiosignal>=1.1.2 in /opt/miniconda3/envs/treasure/lib/python3.12/site-packages (from aiohttp->datasets>=3.0.0->trl) (1.3.2)\n",
      "Requirement already satisfied: attrs>=17.3.0 in /opt/miniconda3/envs/treasure/lib/python3.12/site-packages (from aiohttp->datasets>=3.0.0->trl) (25.3.0)\n",
      "Requirement already satisfied: frozenlist>=1.1.1 in /opt/miniconda3/envs/treasure/lib/python3.12/site-packages (from aiohttp->datasets>=3.0.0->trl) (1.6.0)\n",
      "Requirement already satisfied: multidict<7.0,>=4.5 in /opt/miniconda3/envs/treasure/lib/python3.12/site-packages (from aiohttp->datasets>=3.0.0->trl) (6.4.3)\n",
      "Requirement already satisfied: propcache>=0.2.0 in /opt/miniconda3/envs/treasure/lib/python3.12/site-packages (from aiohttp->datasets>=3.0.0->trl) (0.3.1)\n",
      "Requirement already satisfied: yarl<2.0,>=1.17.0 in /opt/miniconda3/envs/treasure/lib/python3.12/site-packages (from aiohttp->datasets>=3.0.0->trl) (1.20.0)\n",
      "Requirement already satisfied: typing-extensions>=3.7.4.3 in /opt/miniconda3/envs/treasure/lib/python3.12/site-packages (from huggingface-hub>=0.21.0->accelerate>=0.34.0->trl) (4.13.2)\n",
      "Collecting mdurl~=0.1 (from markdown-it-py>=2.2.0->rich->trl)\n",
      "  Using cached mdurl-0.1.2-py3-none-any.whl.metadata (1.6 kB)\n",
      "Requirement already satisfied: charset-normalizer<4,>=2 in /opt/miniconda3/envs/treasure/lib/python3.12/site-packages (from requests>=2.32.2->datasets>=3.0.0->trl) (3.4.1)\n",
      "Requirement already satisfied: idna<4,>=2.5 in /opt/miniconda3/envs/treasure/lib/python3.12/site-packages (from requests>=2.32.2->datasets>=3.0.0->trl) (3.10)\n",
      "Requirement already satisfied: urllib3<3,>=1.21.1 in /opt/miniconda3/envs/treasure/lib/python3.12/site-packages (from requests>=2.32.2->datasets>=3.0.0->trl) (2.3.0)\n",
      "Requirement already satisfied: certifi>=2017.4.17 in /opt/miniconda3/envs/treasure/lib/python3.12/site-packages (from requests>=2.32.2->datasets>=3.0.0->trl) (2025.1.31)\n",
      "Requirement already satisfied: sympy in /opt/miniconda3/envs/treasure/lib/python3.12/site-packages (from torch>=2.0.0->accelerate>=0.34.0->trl) (1.13.1)\n",
      "Requirement already satisfied: networkx in /opt/miniconda3/envs/treasure/lib/python3.12/site-packages (from torch>=2.0.0->accelerate>=0.34.0->trl) (3.4.2)\n",
      "Requirement already satisfied: jinja2 in /opt/miniconda3/envs/treasure/lib/python3.12/site-packages (from torch>=2.0.0->accelerate>=0.34.0->trl) (3.1.6)\n",
      "Requirement already satisfied: setuptools in /opt/miniconda3/envs/treasure/lib/python3.12/site-packages (from torch>=2.0.0->accelerate>=0.34.0->trl) (70.1.1)\n",
      "Requirement already satisfied: python-dateutil>=2.8.2 in /opt/miniconda3/envs/treasure/lib/python3.12/site-packages (from pandas->datasets>=3.0.0->trl) (2.9.0.post0)\n",
      "Requirement already satisfied: pytz>=2020.1 in /opt/miniconda3/envs/treasure/lib/python3.12/site-packages (from pandas->datasets>=3.0.0->trl) (2025.2)\n",
      "Requirement already satisfied: tzdata>=2022.7 in /opt/miniconda3/envs/treasure/lib/python3.12/site-packages (from pandas->datasets>=3.0.0->trl) (2025.2)\n",
      "Requirement already satisfied: six>=1.5 in /opt/miniconda3/envs/treasure/lib/python3.12/site-packages (from python-dateutil>=2.8.2->pandas->datasets>=3.0.0->trl) (1.16.0)\n",
      "Requirement already satisfied: MarkupSafe>=2.0 in /opt/miniconda3/envs/treasure/lib/python3.12/site-packages (from jinja2->torch>=2.0.0->accelerate>=0.34.0->trl) (3.0.2)\n",
      "Requirement already satisfied: mpmath<1.4,>=1.1.0 in /opt/miniconda3/envs/treasure/lib/python3.12/site-packages (from sympy->torch>=2.0.0->accelerate>=0.34.0->trl) (1.3.0)\n",
      "Downloading trl-0.17.0-py3-none-any.whl (348 kB)\n",
      "\u001b[2K   \u001b[90m━━━━━━━━━━━━━━━━━━━━━━━━━━━━━━━━━━━━━━━━\u001b[0m \u001b[32m348.0/348.0 kB\u001b[0m \u001b[31m5.5 MB/s\u001b[0m eta \u001b[36m0:00:00\u001b[0ma \u001b[36m0:00:01\u001b[0m\n",
      "\u001b[?25hDownloading rich-14.0.0-py3-none-any.whl (243 kB)\n",
      "\u001b[2K   \u001b[90m━━━━━━━━━━━━━━━━━━━━━━━━━━━━━━━━━━━━━━━━\u001b[0m \u001b[32m243.2/243.2 kB\u001b[0m \u001b[31m15.4 MB/s\u001b[0m eta \u001b[36m0:00:00\u001b[0m\n",
      "\u001b[?25hUsing cached markdown_it_py-3.0.0-py3-none-any.whl (87 kB)\n",
      "Using cached mdurl-0.1.2-py3-none-any.whl (10.0 kB)\n",
      "Installing collected packages: mdurl, markdown-it-py, rich, trl\n",
      "Successfully installed markdown-it-py-3.0.0 mdurl-0.1.2 rich-14.0.0 trl-0.17.0\n"
     ]
    }
   ],
   "source": [
    "!pip install trl"
   ]
  },
  {
   "cell_type": "code",
   "execution_count": 16,
   "metadata": {},
   "outputs": [
    {
     "name": "stdout",
     "output_type": "stream",
     "text": [
      "Requirement already satisfied: utils in /opt/miniconda3/envs/treasure/lib/python3.12/site-packages (1.0.2)\n"
     ]
    }
   ],
   "source": [
    "!pip install utils"
   ]
  }
 ],
 "metadata": {
  "kernelspec": {
   "display_name": "treasure",
   "language": "python",
   "name": "python3"
  },
  "language_info": {
   "codemirror_mode": {
    "name": "ipython",
    "version": 3
   },
   "file_extension": ".py",
   "mimetype": "text/x-python",
   "name": "python",
   "nbconvert_exporter": "python",
   "pygments_lexer": "ipython3",
   "version": "3.12.4"
  }
 },
 "nbformat": 4,
 "nbformat_minor": 2
}
